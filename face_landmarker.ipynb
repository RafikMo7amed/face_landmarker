{
  "nbformat": 4,
  "nbformat_minor": 0,
  "metadata": {
    "colab": {
      "provenance": []
    },
    "kernelspec": {
      "name": "python3",
      "display_name": "Python 3"
    },
    "language_info": {
      "name": "python"
    }
  },
  "cells": [
    {
      "cell_type": "code",
      "execution_count": 39,
      "metadata": {
        "id": "orZvsIfvrkQ5",
        "colab": {
          "base_uri": "https://localhost:8080/"
        },
        "outputId": "ecbb0bf0-cc3b-4482-d953-79ed67d25f35"
      },
      "outputs": [
        {
          "output_type": "stream",
          "name": "stdout",
          "text": [
            "Drive already mounted at /content/drive; to attempt to forcibly remount, call drive.mount(\"/content/drive\", force_remount=True).\n"
          ]
        }
      ],
      "source": [
        "\n",
        "import matplotlib.pyplot as plt\n",
        "import mediapipe as mp\n",
        "import os\n",
        "import cv2\n",
        "from google.colab.patches import cv2_imshow\n",
        "from google.colab import files\n",
        "import numpy  as np\n",
        "import pandas as pd\n",
        "from sklearn.metrics import mean_squared_error\n",
        "from sklearn.linear_model import LinearRegression\n",
        "from sklearn.model_selection import train_test_split, cross_val_score\n"
      ]
    },
    {
      "cell_type": "code",
      "source": [
        "# Path to the directory containing .mat files on Google Drive\n",
        "mat_files_dir = '/content/drive/MyDrive/AFLW2000'\n",
        "combined_data = []\n",
        "\n",
        "# Check if the directory exists\n",
        "if not os.path.isdir(mat_files_dir):\n",
        "    raise FileNotFoundError(f\"The directory {mat_files_dir} does not exist or cannot be accessed.\")\n",
        "\n",
        "for filename in os.listdir(mat_files_dir):\n",
        "    if filename.endswith(\".mat\"):\n",
        "        # Load the .mat file\n",
        "        file_path = os.path.join(mat_files_dir, filename)\n",
        "        mat_file = scipy.io.loadmat(file_path)\n",
        "\n",
        "        # Replace 'Pose_Para' with the actual name of the variable in the .mat file\n",
        "        if 'Pose_Para' in mat_file:\n",
        "            row_vector = mat_file['Pose_Para']  # Extract the row vector\n",
        "\n",
        "            # Convert the row vector to a DataFrame and append it to the combined_data list\n",
        "            df = pd.DataFrame(row_vector)\n",
        "            combined_data.append(df)\n",
        "        else:\n",
        "            print(f\"'Pose_Para' not found in {filename}\")\n",
        "\n",
        "# Concatenate all DataFrames to create a single dataset\n",
        "final_dataset = pd.concat(combined_data, ignore_index=True)\n",
        "\n",
        "# Save the combined dataset to a CSV file in Google Drive\n",
        "output_path = '/content/drive/MyDrive/combined_dataset.csv'\n",
        "final_dataset.to_csv(output_path, index=False)\n",
        "\n",
        "print(final_dataset)"
      ],
      "metadata": {
        "colab": {
          "base_uri": "https://localhost:8080/"
        },
        "id": "RC6gwgnzc-co",
        "outputId": "c2f4769e-34ce-4ed4-e619-5a5f1e8ece8b"
      },
      "execution_count": 46,
      "outputs": [
        {
          "output_type": "stream",
          "name": "stdout",
          "text": [
            "             0         1         2           3           4           5  \\\n",
            "0    -0.251103 -1.024545  0.230088  135.287994  210.972794  -46.908741   \n",
            "1     0.162750 -0.192906 -0.010402  209.237137  179.394638  -93.713112   \n",
            "2     0.092695 -0.527315  0.163928  154.975708  182.917969 -109.305893   \n",
            "3     0.175137 -1.213063 -0.160148  120.905075  181.013519  -23.546370   \n",
            "4    -0.252779  1.069315 -0.194186  335.404999  207.491760  -30.646679   \n",
            "...        ...       ...       ...         ...         ...         ...   \n",
            "1738  0.688345  1.207175  0.414514  327.262543  159.763580  -19.350164   \n",
            "1739 -1.014593 -2.051753  0.896962  123.145042  139.085663  -10.110525   \n",
            "1740 -0.128817  0.865954  0.125393  305.163940  200.363907  -53.872231   \n",
            "1741  0.018578  0.151739  0.000894  250.115433  188.768616 -114.450081   \n",
            "1742  0.601243  0.081812  0.126460  237.640182  119.955353 -112.205368   \n",
            "\n",
            "             6  \n",
            "0     0.001098  \n",
            "1     0.001133  \n",
            "2     0.001653  \n",
            "3     0.001238  \n",
            "4     0.001218  \n",
            "...        ...  \n",
            "1738  0.001128  \n",
            "1739  0.001176  \n",
            "1740  0.001091  \n",
            "1741  0.001430  \n",
            "1742  0.001613  \n",
            "\n",
            "[1743 rows x 7 columns]\n"
          ]
        }
      ]
    },
    {
      "cell_type": "code",
      "source": [
        "final_dataset=final_dataset.drop([3,4,5,6],axis=1)"
      ],
      "metadata": {
        "id": "aGtD1szgl0Du"
      },
      "execution_count": null,
      "outputs": []
    },
    {
      "cell_type": "code",
      "source": [
        "\n",
        "final_dataset.columns = ['Yaw', 'Pitch', 'Roll']\n",
        "final_dataset"
      ],
      "metadata": {
        "colab": {
          "base_uri": "https://localhost:8080/",
          "height": 315
        },
        "id": "QVTix6AvlcOR",
        "outputId": "f1147dd1-a1ba-46d4-9535-a6a74520e130"
      },
      "execution_count": 47,
      "outputs": [
        {
          "output_type": "error",
          "ename": "ValueError",
          "evalue": "Length mismatch: Expected axis has 7 elements, new values have 3 elements",
          "traceback": [
            "\u001b[0;31m---------------------------------------------------------------------------\u001b[0m",
            "\u001b[0;31mValueError\u001b[0m                                Traceback (most recent call last)",
            "\u001b[0;32m<ipython-input-47-ece5750c6876>\u001b[0m in \u001b[0;36m<cell line: 1>\u001b[0;34m()\u001b[0m\n\u001b[0;32m----> 1\u001b[0;31m \u001b[0mfinal_dataset\u001b[0m\u001b[0;34m.\u001b[0m\u001b[0mcolumns\u001b[0m \u001b[0;34m=\u001b[0m \u001b[0;34m[\u001b[0m\u001b[0;34m'Yaw'\u001b[0m\u001b[0;34m,\u001b[0m \u001b[0;34m'Pitch'\u001b[0m\u001b[0;34m,\u001b[0m \u001b[0;34m'Roll'\u001b[0m\u001b[0;34m]\u001b[0m\u001b[0;34m\u001b[0m\u001b[0;34m\u001b[0m\u001b[0m\n\u001b[0m\u001b[1;32m      2\u001b[0m \u001b[0mfinal_dataset\u001b[0m\u001b[0;34m\u001b[0m\u001b[0;34m\u001b[0m\u001b[0m\n",
            "\u001b[0;32m/usr/local/lib/python3.10/dist-packages/pandas/core/generic.py\u001b[0m in \u001b[0;36m__setattr__\u001b[0;34m(self, name, value)\u001b[0m\n\u001b[1;32m   6000\u001b[0m         \u001b[0;32mtry\u001b[0m\u001b[0;34m:\u001b[0m\u001b[0;34m\u001b[0m\u001b[0;34m\u001b[0m\u001b[0m\n\u001b[1;32m   6001\u001b[0m             \u001b[0mobject\u001b[0m\u001b[0;34m.\u001b[0m\u001b[0m__getattribute__\u001b[0m\u001b[0;34m(\u001b[0m\u001b[0mself\u001b[0m\u001b[0;34m,\u001b[0m \u001b[0mname\u001b[0m\u001b[0;34m)\u001b[0m\u001b[0;34m\u001b[0m\u001b[0;34m\u001b[0m\u001b[0m\n\u001b[0;32m-> 6002\u001b[0;31m             \u001b[0;32mreturn\u001b[0m \u001b[0mobject\u001b[0m\u001b[0;34m.\u001b[0m\u001b[0m__setattr__\u001b[0m\u001b[0;34m(\u001b[0m\u001b[0mself\u001b[0m\u001b[0;34m,\u001b[0m \u001b[0mname\u001b[0m\u001b[0;34m,\u001b[0m \u001b[0mvalue\u001b[0m\u001b[0;34m)\u001b[0m\u001b[0;34m\u001b[0m\u001b[0;34m\u001b[0m\u001b[0m\n\u001b[0m\u001b[1;32m   6003\u001b[0m         \u001b[0;32mexcept\u001b[0m \u001b[0mAttributeError\u001b[0m\u001b[0;34m:\u001b[0m\u001b[0;34m\u001b[0m\u001b[0;34m\u001b[0m\u001b[0m\n\u001b[1;32m   6004\u001b[0m             \u001b[0;32mpass\u001b[0m\u001b[0;34m\u001b[0m\u001b[0;34m\u001b[0m\u001b[0m\n",
            "\u001b[0;32m/usr/local/lib/python3.10/dist-packages/pandas/_libs/properties.pyx\u001b[0m in \u001b[0;36mpandas._libs.properties.AxisProperty.__set__\u001b[0;34m()\u001b[0m\n",
            "\u001b[0;32m/usr/local/lib/python3.10/dist-packages/pandas/core/generic.py\u001b[0m in \u001b[0;36m_set_axis\u001b[0;34m(self, axis, labels)\u001b[0m\n\u001b[1;32m    728\u001b[0m         \"\"\"\n\u001b[1;32m    729\u001b[0m         \u001b[0mlabels\u001b[0m \u001b[0;34m=\u001b[0m \u001b[0mensure_index\u001b[0m\u001b[0;34m(\u001b[0m\u001b[0mlabels\u001b[0m\u001b[0;34m)\u001b[0m\u001b[0;34m\u001b[0m\u001b[0;34m\u001b[0m\u001b[0m\n\u001b[0;32m--> 730\u001b[0;31m         \u001b[0mself\u001b[0m\u001b[0;34m.\u001b[0m\u001b[0m_mgr\u001b[0m\u001b[0;34m.\u001b[0m\u001b[0mset_axis\u001b[0m\u001b[0;34m(\u001b[0m\u001b[0maxis\u001b[0m\u001b[0;34m,\u001b[0m \u001b[0mlabels\u001b[0m\u001b[0;34m)\u001b[0m\u001b[0;34m\u001b[0m\u001b[0;34m\u001b[0m\u001b[0m\n\u001b[0m\u001b[1;32m    731\u001b[0m         \u001b[0mself\u001b[0m\u001b[0;34m.\u001b[0m\u001b[0m_clear_item_cache\u001b[0m\u001b[0;34m(\u001b[0m\u001b[0;34m)\u001b[0m\u001b[0;34m\u001b[0m\u001b[0;34m\u001b[0m\u001b[0m\n\u001b[1;32m    732\u001b[0m \u001b[0;34m\u001b[0m\u001b[0m\n",
            "\u001b[0;32m/usr/local/lib/python3.10/dist-packages/pandas/core/internals/managers.py\u001b[0m in \u001b[0;36mset_axis\u001b[0;34m(self, axis, new_labels)\u001b[0m\n\u001b[1;32m    223\u001b[0m     \u001b[0;32mdef\u001b[0m \u001b[0mset_axis\u001b[0m\u001b[0;34m(\u001b[0m\u001b[0mself\u001b[0m\u001b[0;34m,\u001b[0m \u001b[0maxis\u001b[0m\u001b[0;34m:\u001b[0m \u001b[0mAxisInt\u001b[0m\u001b[0;34m,\u001b[0m \u001b[0mnew_labels\u001b[0m\u001b[0;34m:\u001b[0m \u001b[0mIndex\u001b[0m\u001b[0;34m)\u001b[0m \u001b[0;34m->\u001b[0m \u001b[0;32mNone\u001b[0m\u001b[0;34m:\u001b[0m\u001b[0;34m\u001b[0m\u001b[0;34m\u001b[0m\u001b[0m\n\u001b[1;32m    224\u001b[0m         \u001b[0;31m# Caller is responsible for ensuring we have an Index object.\u001b[0m\u001b[0;34m\u001b[0m\u001b[0;34m\u001b[0m\u001b[0m\n\u001b[0;32m--> 225\u001b[0;31m         \u001b[0mself\u001b[0m\u001b[0;34m.\u001b[0m\u001b[0m_validate_set_axis\u001b[0m\u001b[0;34m(\u001b[0m\u001b[0maxis\u001b[0m\u001b[0;34m,\u001b[0m \u001b[0mnew_labels\u001b[0m\u001b[0;34m)\u001b[0m\u001b[0;34m\u001b[0m\u001b[0;34m\u001b[0m\u001b[0m\n\u001b[0m\u001b[1;32m    226\u001b[0m         \u001b[0mself\u001b[0m\u001b[0;34m.\u001b[0m\u001b[0maxes\u001b[0m\u001b[0;34m[\u001b[0m\u001b[0maxis\u001b[0m\u001b[0;34m]\u001b[0m \u001b[0;34m=\u001b[0m \u001b[0mnew_labels\u001b[0m\u001b[0;34m\u001b[0m\u001b[0;34m\u001b[0m\u001b[0m\n\u001b[1;32m    227\u001b[0m \u001b[0;34m\u001b[0m\u001b[0m\n",
            "\u001b[0;32m/usr/local/lib/python3.10/dist-packages/pandas/core/internals/base.py\u001b[0m in \u001b[0;36m_validate_set_axis\u001b[0;34m(self, axis, new_labels)\u001b[0m\n\u001b[1;32m     68\u001b[0m \u001b[0;34m\u001b[0m\u001b[0m\n\u001b[1;32m     69\u001b[0m         \u001b[0;32melif\u001b[0m \u001b[0mnew_len\u001b[0m \u001b[0;34m!=\u001b[0m \u001b[0mold_len\u001b[0m\u001b[0;34m:\u001b[0m\u001b[0;34m\u001b[0m\u001b[0;34m\u001b[0m\u001b[0m\n\u001b[0;32m---> 70\u001b[0;31m             raise ValueError(\n\u001b[0m\u001b[1;32m     71\u001b[0m                 \u001b[0;34mf\"Length mismatch: Expected axis has {old_len} elements, new \"\u001b[0m\u001b[0;34m\u001b[0m\u001b[0;34m\u001b[0m\u001b[0m\n\u001b[1;32m     72\u001b[0m                 \u001b[0;34mf\"values have {new_len} elements\"\u001b[0m\u001b[0;34m\u001b[0m\u001b[0;34m\u001b[0m\u001b[0m\n",
            "\u001b[0;31mValueError\u001b[0m: Length mismatch: Expected axis has 7 elements, new values have 3 elements"
          ]
        }
      ]
    },
    {
      "cell_type": "code",
      "source": [
        "# Initialize mediapipe face mesh\n",
        "mp_face_mesh = mp.solutions.face_mesh\n",
        "mp_drawing = mp.solutions.drawing_utils\n",
        "\n",
        "image = cv2.imread('image.jpg')\n",
        "\n",
        "# convert image from BGR to RGB for mediapipe\n",
        "rgb_image = cv2.cvtColor(image, cv2.COLOR_BGR2RGB)\n",
        "\n",
        "# initialize the facemesh model\n",
        "with mp_face_mesh.FaceMesh(\n",
        "    static_image_mode=True,\n",
        "    max_num_faces=1,\n",
        "    refine_landmarks=False, # don't add iris landmarks\n",
        "    min_detection_confidence=0.5\n",
        ") as face_mesh:\n",
        "  # process the image and detect the face landmarks\n",
        "  results = face_mesh.process(rgb_image)\n",
        "\n",
        "# draw only the landmarks (points) on the image\n",
        "if results.multi_face_landmarks:\n",
        "  for face_landmarks in results.multi_face_landmarks:\n",
        "\n",
        "    for idx, landmark in enumerate(face_landmarks.landmark):\n",
        "\n",
        "      # get the position of the landmark\n",
        "      h, w, _ = image.shape\n",
        "      x, y = int(landmark.x * w), int(landmark.y * h)\n",
        "\n",
        "\n",
        "      # draw a small circle at the landmark point\n",
        "      cv2.circle(image, (x, y), 5, (0, 0, 255), -1)\n",
        "\n",
        "\n",
        "# display the image with only facial landmarks points\n",
        "cv2_imshow(image)\n",
        "cv2.waitKey(0)\n",
        "cv2.destroyAllWindows()"
      ],
      "metadata": {
        "id": "VW7FLVyvuV4k"
      },
      "execution_count": null,
      "outputs": []
    },
    {
      "cell_type": "code",
      "source": [],
      "metadata": {
        "id": "MkSOe5V2qvjr"
      },
      "execution_count": null,
      "outputs": []
    },
    {
      "cell_type": "code",
      "source": [],
      "metadata": {
        "id": "Kj_b0XW1tM3U"
      },
      "execution_count": null,
      "outputs": []
    },
    {
      "cell_type": "code",
      "source": [
        "# convert landmarks to DataFrame\n",
        "df = pd.DataFrame(all_landmarks, columns=['x', 'y', 'Roll', 'Pitch', 'Yaw'])\n",
        "\n",
        "# prepare the data for the model\n",
        "X = df[['x', 'y']] # features: landmarks (x, y)\n",
        "y_roll = df[['Roll']] # target: Roll\n",
        "y_pitch = df[['Pitch']] # target: Pitch\n",
        "y_yaw = df[['Yaw']] # target: Yaw\n",
        "\n",
        "# splitting data into training and testing sets\n",
        "X_train, X_test, y_train_roll, y_test_roll = train_test_split(X, y_roll, test_size=0.2, random_state=42)\n",
        "_, _, y_train_pitch, y_test_pitch = train_test_split(X, y_pitch, test_size=0.2, random_state=42)\n",
        "_, _, y_train_yaw, y_test_yaw = train_test_split(X, y_yaw, test_size=0.2, random_state=42)\n",
        "\n",
        "# train LinearRegression model for Roll, Pitch, and Yaw\n",
        "lr_roll = LinearRegression().fit(X_train, y_train_roll)\n",
        "lr_pitch = LinearRegression().fit(X_train, y_train_pitch)\n",
        "lr_yaw = LinearRegression().fit(X_train, y_train_yaw)\n",
        "\n",
        "# making predictions\n",
        "y_pred_roll = lr_roll.predict(X_test)\n",
        "y_pred_pitch = lr_pitch.predict(X_test)\n",
        "y_pred_yaw = lr_yaw.predict(X_test)\n",
        "\n",
        "# comparing predictions to actual values\n",
        "results_roll = pd.DataFrame({\n",
        "    'x':X_test['x'].values,\n",
        "    'y':X_test['y'].values,\n",
        "    'Actual Roll':y_test_roll.values.ravel(),\n",
        "    'Predected Roll':y_pred_roll.ravel()\n",
        "})\n",
        "\n",
        "results_pitch = pd.DataFrame({\n",
        "    'x': X_test['x'].values,\n",
        "    'y': X_test['y'].values,\n",
        "    'Actual Pitch': y_test_pitch.values.ravel(),\n",
        "    'Predicted Pitch': y_pred_pitch.ravel()\n",
        "})\n",
        "\n",
        "results_yaw = pd.DataFrame({\n",
        "    'x': X_test['x'].values,\n",
        "    'y': X_test['y'].values,\n",
        "    'Actual Yaw': y_test_yaw.values.ravel(),\n",
        "    'Predicted Yaw': y_pred_yaw.ravel()\n",
        "})\n",
        "\n",
        "print('Predected vs Actual (Roll):')\n",
        "print(results_roll)\n",
        "\n",
        "print('Predected vs Actual (Pitch):')\n",
        "print(results_pitch)\n",
        "\n",
        "print('Predected vs Actual (Yaw):')\n",
        "print(results_yaw)\n",
        "\n"
      ],
      "metadata": {
        "id": "KZmZVIk23W7B",
        "colab": {
          "base_uri": "https://localhost:8080/"
        },
        "outputId": "8616d699-7dd5-4ffa-d694-76d5b24666c4"
      },
      "execution_count": 24,
      "outputs": [
        {
          "output_type": "stream",
          "name": "stdout",
          "text": [
            "Predected vs Actual (Roll):\n",
            "       x     y  Actual Roll  Predected Roll\n",
            "0   1400  1357     1.527525        1.527525\n",
            "1   1015  1274     1.527525        1.527525\n",
            "2   1063  1465     1.527525        1.527525\n",
            "3   1868   996     1.527525        1.527525\n",
            "4   1450  2137     1.527525        1.527525\n",
            "..   ...   ...          ...             ...\n",
            "89  1598  1457     1.527525        1.527525\n",
            "90  1925  1273     1.527525        1.527525\n",
            "91   819  1623     1.527525        1.527525\n",
            "92  1472  1620     1.527525        1.527525\n",
            "93  1789  1389     1.527525        1.527525\n",
            "\n",
            "[94 rows x 4 columns]\n",
            "Predected vs Actual (Pitch):\n",
            "       x     y  Actual Pitch  Predicted Pitch\n",
            "0   1400  1357     89.986506        89.986506\n",
            "1   1015  1274     89.986506        89.986506\n",
            "2   1063  1465     89.986506        89.986506\n",
            "3   1868   996     89.986506        89.986506\n",
            "4   1450  2137     89.986506        89.986506\n",
            "..   ...   ...           ...              ...\n",
            "89  1598  1457     89.986506        89.986506\n",
            "90  1925  1273     89.986506        89.986506\n",
            "91   819  1623     89.986506        89.986506\n",
            "92  1472  1620     89.986506        89.986506\n",
            "93  1789  1389     89.986506        89.986506\n",
            "\n",
            "[94 rows x 4 columns]\n",
            "Predected vs Actual (Yaw):\n",
            "       x     y  Actual Yaw  Predicted Yaw\n",
            "0   1400  1357  179.090685     179.090685\n",
            "1   1015  1274  179.090685     179.090685\n",
            "2   1063  1465  179.090685     179.090685\n",
            "3   1868   996  179.090685     179.090685\n",
            "4   1450  2137  179.090685     179.090685\n",
            "..   ...   ...         ...            ...\n",
            "89  1598  1457  179.090685     179.090685\n",
            "90  1925  1273  179.090685     179.090685\n",
            "91   819  1623  179.090685     179.090685\n",
            "92  1472  1620  179.090685     179.090685\n",
            "93  1789  1389  179.090685     179.090685\n",
            "\n",
            "[94 rows x 4 columns]\n",
            "\n",
            "Mean Squared Error (Roll): 0.0000\n",
            "Mean Squared Error (Pitch): 0.0000\n",
            "Mean Squared Error (Yaw): 0.0000\n",
            "\n",
            "Cross-validated MSE (Roll): 0.0000\n",
            "Cross-validated MSE (Pitch): 0.0000\n",
            "Cross-validated MSE (Yaw): 0.0000\n"
          ]
        }
      ]
    }
  ]
}